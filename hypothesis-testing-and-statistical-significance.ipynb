{
 "cells": [
  {
   "cell_type": "markdown",
   "id": "38dc4eef",
   "metadata": {},
   "source": [
    "# Hypothesis Testing and Statistical Significance\n",
    "\n",
    "This tutorial is a part of the [Zero to Data Analyst Bootcamp by Jovian](https://www.jovian.ai/data-analyst-bootcamp)\n",
    "\n",
    "![](https://i.imgur.com/St2xfG8.jpg)\n",
    "\n",
    "\n",
    "Hypothesis testing is a technique used by statisticians, scientists and data analysts for measuring whether the results of an experiment are meaningful and reliable. The statistical significance of the results of an experiment is often quantified using a P-value. This tutorial aims to build intuition for hypothesis testing using some real-world examples.\n",
    "\n",
    "\n"
   ]
  },
  {
   "cell_type": "markdown",
   "id": "895cf646",
   "metadata": {},
   "source": [
    "### How to Run the Code\n",
    "\n",
    "The best way to learn the material is to execute the code and experiment with it yourself. This tutorial is an executable [Jupyter notebook](https://jupyter.org). You can _run_ this tutorial and experiment with the code examples in a couple of ways: *using free online resources* (recommended) or *on your computer*.\n",
    "\n",
    "#### Option 1: Running using free online resources (1-click, recommended)\n",
    "\n",
    "The easiest way to start executing the code is to click the **Run** button at the top of this page and select **Run on Binder**. You can also select \"Run on Colab\" or \"Run on Kaggle\", but you'll need to create an account on [Google Colab](https://colab.research.google.com) or [Kaggle](https://kaggle.com) to use these platforms.\n",
    "\n",
    "\n",
    "#### Option 2: Running on your computer locally\n",
    "\n",
    "To run the code on your computer locally, you'll need to set up [Python](https://www.python.org), download the notebook and install the required libraries. We recommend using the [Conda](https://docs.conda.io/projects/conda/en/latest/user-guide/install/) distribution of Python. Click the **Run** button at the top of this page, select the **Run Locally** option, and follow the instructions.\n",
    "\n",
    "\n",
    "\n"
   ]
  },
  {
   "cell_type": "markdown",
   "id": "7c996fd4",
   "metadata": {},
   "source": [
    "## Problem Statement\n",
    "\n",
    "\n",
    "Let's work through a real-world example to understand how statistical tests are performed:\n"
   ]
  },
  {
   "cell_type": "markdown",
   "id": "fb32953a",
   "metadata": {},
   "source": [
    "> **QUESTION**: You're an analyst at the investment firm Capital Ventures, and you're evaluating the company [Jovian](https://www.jovian.ai) for a potential investment. The founders of Jovian claim that completing a data science bootcamp offered by Jovian  helps you land a data science job faster. \n",
    ">\n",
    "> <img src=\"https://i.imgur.com/A22XaOy.png\" width=\"480\" style=\"border-radius:4px\">\n",
    ">\n",
    "> A 2020 McKinley report suggests that candidates apply for an average of `37` data science job roles before getting hired. You've surveyed `42` Jovian bootcamp graduates who are now working in data science roles, and compiled data for the number of jobs each one applied to before getting hired: `31, 23, 19, 42, 37, 18, 7, 53, 33, 17, 27, 41, 36, 29, 60, 34, 21, 18, 45, 33, 16, 10, 48, 32, 19, 29, 40, 35, 28, 57, 25, 31, 19, 40, 37, 33, 38, 28, 40, 36, 42, 39`\n",
    ">\n",
    "> Is there a **statistically significant** decrease in the number of jobs candidates need to apply to before getting hired if they've completed a bootcamp offered by Jovian?\n",
    "\n",
    "\n"
   ]
  },
  {
   "cell_type": "code",
   "execution_count": 1,
   "id": "2117f65a",
   "metadata": {},
   "outputs": [],
   "source": [
    "jobs_applied = [31, 23, 19, 42, 37, 18, 7, 53, 33, 17, \n",
    "                27, 41, 36, 29, 60, 34, 21, 18, 45, 33, \n",
    "                16, 10, 48, 32, 19, 29, 40, 35, 28, 57, \n",
    "                25, 31, 19, 40, 37, 33, 38, 28, 40, 36, 42, 39]"
   ]
  },
  {
   "cell_type": "code",
   "execution_count": 2,
   "id": "a4a9c65f",
   "metadata": {},
   "outputs": [
    {
     "data": {
      "text/plain": [
       "42"
      ]
     },
     "execution_count": 2,
     "metadata": {},
     "output_type": "execute_result"
    }
   ],
   "source": [
    "len(jobs_applied)"
   ]
  },
  {
   "cell_type": "markdown",
   "id": "923979eb",
   "metadata": {},
   "source": [
    "Let's compute the mean of `jobs_applied` and compare it with the industry average."
   ]
  },
  {
   "cell_type": "code",
   "execution_count": 3,
   "id": "05e3c531",
   "metadata": {},
   "outputs": [],
   "source": [
    "import numpy as np"
   ]
  },
  {
   "cell_type": "code",
   "execution_count": 4,
   "id": "34f7a30a",
   "metadata": {},
   "outputs": [
    {
     "data": {
      "text/plain": [
       "32.04761904761905"
      ]
     },
     "execution_count": 4,
     "metadata": {},
     "output_type": "execute_result"
    }
   ],
   "source": [
    "np.mean(jobs_applied)"
   ]
  },
  {
   "cell_type": "markdown",
   "id": "99eed976",
   "metadata": {},
   "source": [
    "The number is in fact lower than the industry average of 37. However, is this number reliable? Do you feel confident about making an investment in Jovian?\n",
    "\n",
    "Before you make up your mind, consider the following scenarios:\n",
    "\n",
    "- Suppose the average of `jobs_applied` was `35.2`. Would you still believe the founders' claims? What about `36.3` or `36.9`? \n",
    "- Suppose only `18` Jovian graduates were surveyed, instead of `42`. Would the average be reliable then? What if you have had surveyed `6` graduates? What if you had surveyed `75`?\n",
    "- If you survey two groups of Jovian graduates, you are likely to get different observations and averages. Which set of observations can you rely on more?\n",
    "- Even if the average for Jovian graduates is significantly lower the the industry average, can you say confidently that it's because of the bootcamp, and not some other factors?\n",
    "\n",
    "In which of the above case is it likely that the observations are the result of random chance rather than an actual improvement?\n",
    "\n",
    "Clearly, we need a way to **quantify our confidence** in the results based on the data we've collected. That's exactly what hypothesis testing is: a statistical technique for validating claims using sample observations.\n",
    "\n",
    "The goal of **hypothesis testing** is to determine the **statistical significance** of sample observations supporting a claim by quantifying how likely they are to occur due to random chance.\n",
    "\n",
    "![](https://www.omniconvert.com/blog/wp-content/uploads/2015/01/Is-that-test-Statistically-Significant-.png)"
   ]
  },
  {
   "cell_type": "markdown",
   "id": "4c151d4e",
   "metadata": {},
   "source": [
    "## Null and Alternate Hypothesis\n",
    "\n",
    "Before we can determine the validity of a claim or a **hypothesis**, it's important to state it as precisely as possible.\n",
    "\n",
    "1. **The Null Hypothesis** refers to the currently accepted hypothesis (industry average). It assumes that the claim we're trying to validate is invalid and new observations are the result of random chance. It is often denoted by $H_0$.\n",
    "\n",
    "2. **The Alternate Hypothesis** refers to the new claim that we wish to validate. It is often denoted by $H_1$. \n",
    "\n",
    "Here's how a statistical test works:\n",
    "\n",
    "* The null hypothesis and the alternate hypothesis must be mathematical opposites. \n",
    "* We always start out by assuming that the null hypothesis is true i.e. nothing has changed. \n",
    "* A statistical test attempts to reject the null hypothesis, thereby validating the alternate hypothesis.\n",
    "* It does so by computing the probability of getting the sample observations assuming the null hypothesis is true. \n",
    "* If the probability is low, then the null hypothesis can be rejected, otherwise we fail to reject the null hypothesis.\n",
    "\n",
    "\n",
    "> **QUESTION**: State the null and alternate hypothesis for the problem stated above.\n",
    "\n",
    "\n",
    "The null and alternate hypotheses are commonly stated in the terms of the averages:\n",
    "\n",
    "1. **Null Hypothesis ($H_0$)**: Jovian bootcamp graduates need to apply for an average of _at least_ 37 data science jobs before getting hired.\n",
    "\n",
    "2. **Alternate Hypothesis ($H_1$)**: Jovian bootcamp graduates need to apply for _fewer than_ 37 data science jobs before getting hired.\n",
    "\n",
    "Let $\\mu$ (pronounced \"myu\") denote \"the average number of data science jobs Jovian bootcamp graduates need to apply for before getting hired.\" We can now state the null and alternate hypotheses mathematically as follows:\n",
    "\n",
    "$H_0: \\mu \\ge 37$\n",
    "\n",
    "$H_1: \\mu < 37$\n",
    "\n",
    "Note how the two statements are mathematical opposites."
   ]
  },
  {
   "cell_type": "markdown",
   "id": "5441937a",
   "metadata": {},
   "source": [
    "Let's save our work before continuing."
   ]
  },
  {
   "cell_type": "code",
   "execution_count": 5,
   "id": "9e23fc71",
   "metadata": {},
   "outputs": [
    {
     "data": {
      "application/javascript": [
       "window.require && require([\"base/js/namespace\"],function(Jupyter){Jupyter.notebook.save_checkpoint()})"
      ],
      "text/plain": [
       "<IPython.core.display.Javascript object>"
      ]
     },
     "metadata": {},
     "output_type": "display_data"
    },
    {
     "name": "stdout",
     "output_type": "stream",
     "text": [
      "[jovian] Attempting to save notebook..\u001b[0m\n",
      "[jovian] Updating notebook \"aakashns/hypothesis-testing-and-statistical-significance\" on https://jovian.ai/\u001b[0m\n",
      "[jovian] Uploading notebook..\u001b[0m\n",
      "[jovian] Capturing environment..\u001b[0m\n",
      "[jovian] Committed successfully! https://jovian.ai/aakashns/hypothesis-testing-and-statistical-significance\u001b[0m\n"
     ]
    },
    {
     "data": {
      "text/plain": [
       "'https://jovian.ai/aakashns/hypothesis-testing-and-statistical-significance'"
      ]
     },
     "execution_count": 5,
     "metadata": {},
     "output_type": "execute_result"
    }
   ],
   "source": [
    "jovian.commit()"
   ]
  },
  {
   "cell_type": "markdown",
   "id": "fba92629",
   "metadata": {},
   "source": [
    "## Computing the Test Statistic\n",
    "\n",
    "Once the hypotheses are stated, we compute a \"test statistic\" using the sample observations, assuming that the null hypothesis is true. A commonly used test statistic is the \"Z statistic\", which has the following formula:\n",
    "\n",
    "<img src=\"https://i.imgur.com/AUJX4qi.png\" width=\"120\">\n",
    "\n",
    "where:\n",
    "\n",
    "* $\\overline{X}$ is the sample mean (computed using the observed values)\n",
    "* $\\mu$ is the population mean (stated in the null hypothesis)\n",
    "* $\\sigma$ is the population standard deviation (if unavailable, use sample standard deviation as an approximation)\n",
    "* $n$ is the number of samples collected\n",
    "\n",
    "\n",
    "The **Z statistic** calculates how far away the sample mean $\\overline{X}$ (which comes from observed values) is from the distribution mean $\\mu$ (which comes from the null hypothesis), assuming that the null hypothesis is true. \n",
    "\n",
    "Here's an intuitive explanation of how different parameters in the formula affect the Z statistic:\n",
    "\n",
    "* **Sample mean and population mean**: As the sample mean $\\overline{X}$ gets further away from the population mean $\\mu$, the magnitude of the Z statistic increases. \n",
    "\n",
    "\n",
    "* **Standard deviation**: The difference in means is divided population standard deviation $\\sigma$ to correct for the spread in the distribution. If a distribution has a high standard variation i.e. a greater spread, the sample mean needs to quite far away \n",
    "\n",
    "\n",
    "* **Sample size**: We also divide the standard deviation by $\\sqrt{n}$. This effectively amounts to multiplying the the difference in means by $\\sqrt{n}$. This indicates that when we pick large samples, we can be more confident is our results, even if the different in means is small.\n",
    "\n",
    "\n",
    "A Z statistic with a high magnitude indicates there's a very low chance that the observations were a result of random chance. Here's a graph showing the distribution Z statistics for various samples drawn from a population. Each dot in the above graph shows the relative likelihood of a particular Z statistic. \n",
    "\n",
    "<img src=\"https://i.imgur.com/JLtIq6O.png\" width=\"480\">\n",
    "\n",
    "The distribution of Z values for various samples drawn from a population is _assumed_ to be a standard normal distribution. "
   ]
  },
  {
   "cell_type": "markdown",
   "id": "5e294d7c",
   "metadata": {},
   "source": [
    "> **QUESTION**: Compute the Z-statistic for the problem stated above.\n",
    "\n",
    "\n",
    "We can compute the Z-statistic step by step using the formula stated above:\n",
    "\n",
    "<img src=\"https://i.imgur.com/AUJX4qi.png\" width=\"120\">\n",
    "\n",
    "where:\n",
    "\n",
    "* $\\overline{X}$ is the sample mean (computed using the observed values)\n",
    "* $\\mu$ is the population mean (stated in the null hypothesis)\n",
    "* $\\sigma$ is the population standard deviation (if unavailable, use sample standard deviation as an approximation)\n",
    "* $n$ is the number of samples collected\n",
    "\n",
    "\n",
    "\n"
   ]
  },
  {
   "cell_type": "code",
   "execution_count": 8,
   "id": "d5fa2baa",
   "metadata": {},
   "outputs": [
    {
     "name": "stdout",
     "output_type": "stream",
     "text": [
      "[31, 23, 19, 42, 37, 18, 7, 53, 33, 17, 27, 41, 36, 29, 60, 34, 21, 18, 45, 33, 16, 10, 48, 32, 19, 29, 40, 35, 28, 57, 25, 31, 19, 40, 37, 33, 38, 28, 40, 36, 42, 39]\n"
     ]
    }
   ],
   "source": [
    "print(jobs_applied)"
   ]
  },
  {
   "cell_type": "markdown",
   "id": "e1dc283b",
   "metadata": {},
   "source": [
    "Let's compute each term used in the formula:"
   ]
  },
  {
   "cell_type": "code",
   "execution_count": 9,
   "id": "c5776c9f",
   "metadata": {},
   "outputs": [],
   "source": [
    "population_mean = 37\n",
    "\n",
    "sample_mean = np.mean(jobs_applied)\n",
    "sample_std = np.std(jobs_applied) # population standard deviation is unavailable\n",
    "sample_size = len(jobs_applied)"
   ]
  },
  {
   "cell_type": "code",
   "execution_count": 10,
   "id": "d4da270d",
   "metadata": {},
   "outputs": [
    {
     "name": "stdout",
     "output_type": "stream",
     "text": [
      "Sample mean: 32.05\n",
      "Population mean: 37\n",
      "Sample standard deviation: 11.70\n",
      "Sample size: 42\n"
     ]
    }
   ],
   "source": [
    "print('Sample mean: {:.2f}'.format(sample_mean))\n",
    "print('Population mean:', population_mean)\n",
    "print('Sample standard deviation: {:.2f}'.format(sample_std))\n",
    "print('Sample size:', sample_size)"
   ]
  },
  {
   "cell_type": "markdown",
   "id": "6cf4a164",
   "metadata": {},
   "source": [
    "We can now compute the Z statistic."
   ]
  },
  {
   "cell_type": "code",
   "execution_count": 11,
   "id": "95529ce5",
   "metadata": {},
   "outputs": [],
   "source": [
    "z_statistic = (sample_mean - population_mean) / (sample_std / np.sqrt(sample_size))"
   ]
  },
  {
   "cell_type": "code",
   "execution_count": 12,
   "id": "7c3df4b1",
   "metadata": {},
   "outputs": [
    {
     "data": {
      "text/plain": [
       "-2.743522669932238"
      ]
     },
     "execution_count": 12,
     "metadata": {},
     "output_type": "execute_result"
    }
   ],
   "source": [
    "z_statistic"
   ]
  },
  {
   "cell_type": "markdown",
   "id": "20a30177",
   "metadata": {},
   "source": [
    "Let's create a helper function to compute the Z statistic given a set of observations, a population mean and standard deviation."
   ]
  },
  {
   "cell_type": "code",
   "execution_count": 13,
   "id": "21c77c08",
   "metadata": {},
   "outputs": [],
   "source": [
    "def compute_z(observations, population_mean, std=None):\n",
    "    sample_mean = np.mean(observations)\n",
    "    if std is None:\n",
    "        std = np.std(observations)\n",
    "    sample_size = len(observations)\n",
    "    z = (sample_mean - population_mean) / (std / np.sqrt(sample_size))\n",
    "    return z"
   ]
  },
  {
   "cell_type": "code",
   "execution_count": 14,
   "id": "5e9e699a",
   "metadata": {},
   "outputs": [
    {
     "data": {
      "text/plain": [
       "-2.743522669932238"
      ]
     },
     "execution_count": 14,
     "metadata": {},
     "output_type": "execute_result"
    }
   ],
   "source": [
    "compute_z(jobs_applied, population_mean)"
   ]
  },
  {
   "cell_type": "markdown",
   "id": "5e8935af",
   "metadata": {},
   "source": [
    "As we might expect, the Z statistic has a negative value `-2.74`. \n",
    "\n",
    "<img src=\"https://i.imgur.com/JLtIq6O.png\" width=\"480\">\n",
    "\n"
   ]
  },
  {
   "cell_type": "markdown",
   "id": "20a715d1",
   "metadata": {},
   "source": [
    "Let's save our work before continuing."
   ]
  },
  {
   "cell_type": "code",
   "execution_count": 15,
   "id": "2dd8244d",
   "metadata": {},
   "outputs": [
    {
     "data": {
      "application/javascript": [
       "window.require && require([\"base/js/namespace\"],function(Jupyter){Jupyter.notebook.save_checkpoint()})"
      ],
      "text/plain": [
       "<IPython.core.display.Javascript object>"
      ]
     },
     "metadata": {},
     "output_type": "display_data"
    },
    {
     "name": "stdout",
     "output_type": "stream",
     "text": [
      "[jovian] Attempting to save notebook..\u001b[0m\n",
      "[jovian] Updating notebook \"aakashns/hypothesis-testing-and-statistical-significance\" on https://jovian.ai/\u001b[0m\n",
      "[jovian] Uploading notebook..\u001b[0m\n",
      "[jovian] Capturing environment..\u001b[0m\n",
      "[jovian] Committed successfully! https://jovian.ai/aakashns/hypothesis-testing-and-statistical-significance\u001b[0m\n"
     ]
    },
    {
     "data": {
      "text/plain": [
       "'https://jovian.ai/aakashns/hypothesis-testing-and-statistical-significance'"
      ]
     },
     "execution_count": 15,
     "metadata": {},
     "output_type": "execute_result"
    }
   ],
   "source": [
    "jovian.commit()"
   ]
  },
  {
   "cell_type": "markdown",
   "id": "2b575be5",
   "metadata": {},
   "source": [
    "## Left Tail, Right Tail and Two Tail Tests\n",
    "\n",
    "The Z statistic can be used to compute the probability of getting the sample `jobs_applied` assuming the null hypothesis is true. If this probability low enough, then we can reject the null hypothesis (and accept the alternate hypothesis)."
   ]
  },
  {
   "cell_type": "code",
   "execution_count": 16,
   "id": "163e77af",
   "metadata": {},
   "outputs": [
    {
     "name": "stdout",
     "output_type": "stream",
     "text": [
      "[31, 23, 19, 42, 37, 18, 7, 53, 33, 17, 27, 41, 36, 29, 60, 34, 21, 18, 45, 33, 16, 10, 48, 32, 19, 29, 40, 35, 28, 57, 25, 31, 19, 40, 37, 33, 38, 28, 40, 36, 42, 39]\n"
     ]
    }
   ],
   "source": [
    "print(jobs_applied)"
   ]
  },
  {
   "cell_type": "markdown",
   "id": "566599ac",
   "metadata": {},
   "source": [
    "However, recall that the probability of getting any _specific_ set of observations from a continuous distribution is zero. Rather, we should be asking the question: What is the probability of getting a sample \"equally or more extreme\" than observed data. \n",
    "\n",
    "Or, in the context of the question we're solving, what is the probability of getting a sample of 35 students with a mean equal to lower than the mean of `jobs_applied`.\n",
    "\n",
    "To compute this probability, we need to determine the range of Z values that support the alternate hypothesis.\n",
    "\n",
    "![](https://i.imgur.com/rtLYm3c.png)\n",
    "\n",
    "Depending on the alternate hypothesis, a test can be left-tailed, right-tailed or two-tailed. The shaded region in the above graphs shows the range of Z values for samples \"equal to or more extreme\" than observed values. "
   ]
  },
  {
   "cell_type": "markdown",
   "id": "192a60b2",
   "metadata": {},
   "source": [
    "**QUESTION**: Is the problem stated above a left-tailed, right-tailed or two-tailed test?\n",
    "\n",
    "Let's recall the two hypotheses and the Z statistic:\n",
    "\n",
    "$H_0: \\mu \\ge 37$\n",
    "\n",
    "$H_1: \\mu < 37$\n",
    "\n",
    "$Z = -2.74$\n",
    "\n",
    "A \"more extreme\" sample would have a lower mean than the observed data, so the Z statistic would take a larger negative value. Thus, the test is left-tailed."
   ]
  },
  {
   "cell_type": "code",
   "execution_count": null,
   "id": "7fbedf78",
   "metadata": {},
   "outputs": [],
   "source": []
  },
  {
   "cell_type": "markdown",
   "id": "d9eb54c0",
   "metadata": {},
   "source": [
    "**EXERCISE**: Come up with two examples each of left tailed, right tailed and two tailed tests."
   ]
  },
  {
   "cell_type": "code",
   "execution_count": null,
   "id": "ac2baa63",
   "metadata": {},
   "outputs": [],
   "source": []
  },
  {
   "cell_type": "code",
   "execution_count": null,
   "id": "454b1853",
   "metadata": {},
   "outputs": [],
   "source": []
  },
  {
   "cell_type": "markdown",
   "id": "9b70b323",
   "metadata": {},
   "source": [
    "Let's save our work before continuing."
   ]
  },
  {
   "cell_type": "code",
   "execution_count": 17,
   "id": "35f5a9db",
   "metadata": {},
   "outputs": [
    {
     "data": {
      "application/javascript": [
       "window.require && require([\"base/js/namespace\"],function(Jupyter){Jupyter.notebook.save_checkpoint()})"
      ],
      "text/plain": [
       "<IPython.core.display.Javascript object>"
      ]
     },
     "metadata": {},
     "output_type": "display_data"
    },
    {
     "name": "stdout",
     "output_type": "stream",
     "text": [
      "[jovian] Attempting to save notebook..\u001b[0m\n",
      "[jovian] Updating notebook \"aakashns/hypothesis-testing-and-statistical-significance\" on https://jovian.ai/\u001b[0m\n",
      "[jovian] Uploading notebook..\u001b[0m\n",
      "[jovian] Capturing environment..\u001b[0m\n",
      "[jovian] Committed successfully! https://jovian.ai/aakashns/hypothesis-testing-and-statistical-significance\u001b[0m\n"
     ]
    },
    {
     "data": {
      "text/plain": [
       "'https://jovian.ai/aakashns/hypothesis-testing-and-statistical-significance'"
      ]
     },
     "execution_count": 17,
     "metadata": {},
     "output_type": "execute_result"
    }
   ],
   "source": [
    "jovian.commit()"
   ]
  },
  {
   "cell_type": "markdown",
   "id": "1f9510a4",
   "metadata": {},
   "source": [
    "## Computing the $p$ value\n",
    "\n",
    "The $p$ value for a statistical test is the the probability of obtaining a sample “equally or more extreme” than the observed data, assuming that the null hypothesis is true.\n",
    "\n",
    "Once we have a Z-score for the observations, and we know whether the test is left-tailed, right-tailed or two-tailed, the $p$ value is simply the area of the shaded region in the graph.\n",
    "\n",
    "![](https://i.imgur.com/rtLYm3c.png)\n",
    "\n",
    "It was common practice to use a Z table to estimate the area of a region. The table shows the area under the curve on the left side of a value for several positive and negative Z scores.\n",
    "\n",
    "![](https://i.imgur.com/PPpG2wk.png)\n",
    "\n",
    "\n",
    "We case use the `norm.cdf` function from the `scipy.stats` module of the Scipy Python library to compute this value without having to look up a Z table."
   ]
  },
  {
   "cell_type": "code",
   "execution_count": 18,
   "id": "3bb54b23",
   "metadata": {},
   "outputs": [],
   "source": [
    "!pip install scipy --upgrade --quiet"
   ]
  },
  {
   "cell_type": "code",
   "execution_count": 19,
   "id": "c7ef656a",
   "metadata": {},
   "outputs": [],
   "source": [
    "from scipy.stats import norm"
   ]
  },
  {
   "cell_type": "code",
   "execution_count": 20,
   "id": "c651f81a",
   "metadata": {},
   "outputs": [
    {
     "data": {
      "text/plain": [
       "0.013903447513498595"
      ]
     },
     "execution_count": 20,
     "metadata": {},
     "output_type": "execute_result"
    }
   ],
   "source": [
    "norm.cdf(-2.2)"
   ]
  },
  {
   "cell_type": "code",
   "execution_count": 21,
   "id": "4a24b53d",
   "metadata": {},
   "outputs": [
    {
     "data": {
      "text/plain": [
       "0.9031995154143897"
      ]
     },
     "execution_count": 21,
     "metadata": {},
     "output_type": "execute_result"
    }
   ],
   "source": [
    "norm.cdf(1.3)"
   ]
  },
  {
   "cell_type": "markdown",
   "id": "4f093271",
   "metadata": {},
   "source": [
    "Here's how we can compute the p-value for left-tailed, right tailed and two tailed tests:\n",
    "\n",
    "\n",
    "* **Left tailed**: In this case, the Z statistic is negative, and the p-value is the area to the left of the observed Z statistic, so it can be computed simply as `norm.cdf(z)`\n",
    "\n",
    "\n",
    "\n",
    "\n",
    "* **Right tailed**: In this case, the Z statistic is positive, and the value p-value is the area to the right of the observed Z statistic, so it can be computed as `1 - norm.cdf(z)` (since the total area under the curve representing the probability of all possible z values is 1).\n",
    "\n",
    "\n",
    "\n",
    "\n",
    "* **Two tailed**: In this case, we need to consider both the positive and negative values of the Z statistic. The p-value is the sum of the area to the left of the negative Z statistic and the area to the right of the positive z statistic, so it can be computed as `norm.cdf(-z)` + `1 - norm.cdf(z)` (where `z` indicates the absolute value of the Z statistic)\n",
    "\n",
    "\n",
    "Let's create helper functions for the above cases."
   ]
  },
  {
   "cell_type": "code",
   "execution_count": 22,
   "id": "482be4c4",
   "metadata": {},
   "outputs": [],
   "source": [
    "from scipy.stats import norm\n",
    "\n",
    "def p_left_tailed(z):\n",
    "    return norm.cdf(z)\n",
    "\n",
    "def p_right_tailed(z):\n",
    "    return 1 - norm.cdf(z)\n",
    "\n",
    "def p_two_tailed(z):\n",
    "    z_abs = abs(z)\n",
    "    return norm.cdf(-z_abs) + (1 - norm.cdf(z_abs))"
   ]
  },
  {
   "cell_type": "markdown",
   "id": "5595fdd3",
   "metadata": {},
   "source": [
    "> **QUESTION**: Compute the $p$ value for the problem stated above.\n",
    "\n",
    "Here's a summary of the problem:\n",
    "\n",
    "$H_0: \\mu \\ge 37$\n",
    "\n",
    "$H_1: \\mu < 37$\n",
    "\n",
    "$Z = -2.74$\n",
    "\n",
    "Since this is a left-tailed test, it follows that the `p-value` is the area to the left of the z statistic.\n",
    "\n",
    "<img src=\"https://i.imgur.com/JLtIq6O.png\" width=\"480\">"
   ]
  },
  {
   "cell_type": "code",
   "execution_count": 23,
   "id": "e51cbdcb",
   "metadata": {},
   "outputs": [
    {
     "data": {
      "text/plain": [
       "-2.743522669932238"
      ]
     },
     "execution_count": 23,
     "metadata": {},
     "output_type": "execute_result"
    }
   ],
   "source": [
    "z_statistic"
   ]
  },
  {
   "cell_type": "code",
   "execution_count": 24,
   "id": "ebc7b221",
   "metadata": {},
   "outputs": [],
   "source": [
    "p_value = norm.cdf(z_statistic)"
   ]
  },
  {
   "cell_type": "code",
   "execution_count": 25,
   "id": "5e19bac6",
   "metadata": {},
   "outputs": [
    {
     "name": "stdout",
     "output_type": "stream",
     "text": [
      "The p value of the observed data is 0.00304\n"
     ]
    }
   ],
   "source": [
    "print('The p value of the observed data is {:.5f}'.format(p_value))"
   ]
  },
  {
   "cell_type": "markdown",
   "id": "d9958c00",
   "metadata": {},
   "source": [
    "Recall that the $p$ value for a statistical test is the the probability of obtaining a sample “equally or more extreme” than the observed data, assuming that the null hypothesis is true.\n",
    "\n",
    "Here are the null and alternate hypotheses for the problem restated in simple words:\n",
    "\n",
    "1. **Null Hypothesis ($H_0$)**: Jovian bootcamp graduates need to apply for an average of _at least_ 37 data science jobs before getting hired.\n",
    "\n",
    "2. **Alternate Hypothesis ($H_1$)**: Jovian bootcamp graduates need to apply for _fewer than_ 37 data science jobs before getting hired.\n",
    "\n",
    "\n",
    "Here's what our p value tells us:\n",
    "\n",
    "If Jovian bootcamp graduates need to apply for an average of at least 37 data science jobs to get hired, then probability of getting the observed values of `jobs_applied` is 0.00304 or 0.3%.\n",
    "\n",
    "Do you think we can reject the null hypothesis based on this probability? Why or why not?\n"
   ]
  },
  {
   "cell_type": "markdown",
   "id": "4073eb6c",
   "metadata": {},
   "source": [
    "## Significance Level and Confidence Level\n",
    "\n",
    "The $p$ value is also known as the **significance level** of the observations and $1 - p$ is knows as the **confidence level** of the observations. They are often stated in percentages. The confidence level indicates how confident we feel about the validity of the claim we're testing (the alternate hypothesis).\n",
    "\n",
    "In the above case, the confidence level of the claim made by Jovian's founders is 99.7%.\n",
    "\n",
    "It's common practice to decide the significance level for rejecting the null hypothesis before the test is performed. If the p-value is lower than the decided significance level, we say that the results are statistically significant.\n",
    "\n",
    "For example, if we decide on a significance level of 0.01 (or 99% confidence level), then the null hypothesis can be rejected if the $p$ value is lower than 0.01.\n",
    "\n",
    "> **Interpretation of p value**: A p value lower than 0.01 the probability of getting the observed data by random chance is less than 1%.\n",
    "\n",
    "Common choices for significance level are 0.1 (90% confidence), 0.05 (95% confidence) and 0.01 (99% confidence). \n",
    "\n",
    "<img src=\"https://i.imgur.com/gBzN0lF.png\" width=\"480\">"
   ]
  },
  {
   "cell_type": "code",
   "execution_count": 26,
   "id": "f5965287",
   "metadata": {},
   "outputs": [
    {
     "data": {
      "text/plain": [
       "37"
      ]
     },
     "execution_count": 26,
     "metadata": {},
     "output_type": "execute_result"
    }
   ],
   "source": [
    "population_mean"
   ]
  },
  {
   "cell_type": "code",
   "execution_count": 27,
   "id": "5722833d",
   "metadata": {},
   "outputs": [
    {
     "name": "stdout",
     "output_type": "stream",
     "text": [
      "[31, 23, 19, 42, 37, 18, 7, 53, 33, 17, 27, 41, 36, 29, 60, 34, 21, 18, 45, 33, 16, 10, 48, 32, 19, 29, 40, 35, 28, 57, 25, 31, 19, 40, 37, 33, 38, 28, 40, 36, 42, 39]\n"
     ]
    }
   ],
   "source": [
    "print(jobs_applied)"
   ]
  },
  {
   "cell_type": "code",
   "execution_count": 29,
   "id": "8aea787d",
   "metadata": {},
   "outputs": [
    {
     "data": {
      "text/plain": [
       "0.0030391925528473413"
      ]
     },
     "execution_count": 29,
     "metadata": {},
     "output_type": "execute_result"
    }
   ],
   "source": [
    "p_value"
   ]
  },
  {
   "cell_type": "markdown",
   "id": "791c0577",
   "metadata": {},
   "source": [
    "Now that you know about hypothesis testing, try to answer the following questions:\n",
    "\n",
    "\n",
    "- Suppose the average of `jobs_applied` was `35.2`. Would you still believe the founders' claims? What about `36.3` or `36.9`? \n",
    "- Suppose only `18` Jovian graduates were surveyed, instead of `42`. Would the average be reliable then? What if you have had surveyed `6` graduates? What if you had surveyed `75`?\n",
    "- If you survey two groups of Jovian graduates, you are likely to get different observations and averages. Which set of observations can you rely on more?\n",
    "- Even if the average for Jovian graduates is significantly lower the the industry average, can you say confidently that it's because of the bootcamp, and not some other factors?\n",
    "\n"
   ]
  },
  {
   "cell_type": "markdown",
   "id": "41fb09d3",
   "metadata": {},
   "source": [
    "Note the hypothesis testing assumes that a sample was drawn randomly from the population. By choosing a biased sample, you can \"hack\" the test to get any p value of your choice. p-hacking, unfortunately, is not a very uncommon practice in the research and industry. Before relying on p values, always ask the question:\n",
    "\n",
    "![](https://i.imgur.com/dpVvPBJ.png)"
   ]
  },
  {
   "cell_type": "markdown",
   "id": "193b183c",
   "metadata": {},
   "source": [
    "Let's save our work before continuing."
   ]
  },
  {
   "cell_type": "code",
   "execution_count": 30,
   "id": "56881a2a",
   "metadata": {},
   "outputs": [
    {
     "data": {
      "application/javascript": [
       "window.require && require([\"base/js/namespace\"],function(Jupyter){Jupyter.notebook.save_checkpoint()})"
      ],
      "text/plain": [
       "<IPython.core.display.Javascript object>"
      ]
     },
     "metadata": {},
     "output_type": "display_data"
    },
    {
     "name": "stdout",
     "output_type": "stream",
     "text": [
      "[jovian] Attempting to save notebook..\u001b[0m\n",
      "[jovian] Updating notebook \"aakashns/hypothesis-testing-and-statistical-significance\" on https://jovian.ai/\u001b[0m\n",
      "[jovian] Uploading notebook..\u001b[0m\n",
      "[jovian] Capturing environment..\u001b[0m\n",
      "[jovian] Committed successfully! https://jovian.ai/aakashns/hypothesis-testing-and-statistical-significance\u001b[0m\n"
     ]
    },
    {
     "data": {
      "text/plain": [
       "'https://jovian.ai/aakashns/hypothesis-testing-and-statistical-significance'"
      ]
     },
     "execution_count": 30,
     "metadata": {},
     "output_type": "execute_result"
    }
   ],
   "source": [
    "jovian.commit()"
   ]
  },
  {
   "cell_type": "markdown",
   "id": "021e0dc0",
   "metadata": {},
   "source": [
    "## Step-by-Step Process for Hypothesis Testing\n",
    "\n",
    "Here's a summary of the steps involved in hypothesis testing:\n",
    "\n",
    "### Step 1. State the null hypothesis $H_0$ and alternate hypotheses $H_1$ as mathematical relations. \n",
    "\n",
    "The hypothesis are generally stated in terms of an average/mean $\\mu$.\n",
    "\n",
    "$H_0: \\mathord{?}$\n",
    "\n",
    "$H_0: \\mathord{?}$\n",
    "\n",
    "Start by assuming the null hypothesis is true.\n",
    "\n",
    "\n",
    "### Step 2. Compute the test Z-statistic \n",
    "\n",
    "<img src=\"https://i.imgur.com/AUJX4qi.png\" width=\"120\">\n",
    "\n",
    "where:\n",
    "\n",
    "* $\\overline{X}$ is the sample mean (computed using the observed values)\n",
    "* $\\mu$ is the population mean (stated in the null hypothesis)\n",
    "* $\\sigma$ is the population standard deviation (if unavailable, use sample standard deviation as an approximation)\n",
    "* $n$ is the number of samples collected\n",
    "\n",
    "\n",
    "### Step 3. Identify whether the test is left tailed, right tailed or two-tailed.\n",
    "\n",
    "![](https://i.imgur.com/rtLYm3c.png)\n",
    "\n",
    "### 4. Compute the p-value using the Z-table or `norm.cdf`\n",
    "\n",
    "**Note**: If the sample size is smaller than 30, use [a T-table](https://www.sjsu.edu/faculty/gerstman/StatPrimer/t-table.pdf) instead of a Z-table for more reliable results.\n",
    "\n",
    "* **Left tailed**: In this case, the Z statistic is negative, and the p-value is the area to the left of the observed Z statistic, so it can be computed simply as `norm.cdf(z)`\n",
    "\n",
    "\n",
    "* **Right tailed**: In this case, the Z statistic is positive, and the value p-value is the area to the right of the observed Z statistic, so it can be computed as `1 - norm.cdf(z)` (since the total area under the curve representing the probability of all possible z values is 1).\n",
    "\n",
    "\n",
    "* **Two tailed**: In this case, we need to consider both the positive and negative values of the Z statistic. The p-value is the sum of the area to the left of the negative Z statistic and the area to the right of the positive z statistic, so it can be computed as `norm.cdf(-z)` + `1 - norm.cdf(z)` (where `z` indicates the absolute value of the Z statistic)\n",
    "\n",
    "<img src=\"https://i.imgur.com/gBzN0lF.png\" width=\"480\">\n",
    "\n",
    "The results are **statistically significant** and the null hypothesis can be rejected if the p-value is lower than a predetermined significance level."
   ]
  },
  {
   "cell_type": "markdown",
   "id": "9d0d356e",
   "metadata": {},
   "source": [
    "Let's save our work before continuing."
   ]
  },
  {
   "cell_type": "code",
   "execution_count": null,
   "id": "4a116855",
   "metadata": {},
   "outputs": [
    {
     "data": {
      "application/javascript": [
       "window.require && require([\"base/js/namespace\"],function(Jupyter){Jupyter.notebook.save_checkpoint()})"
      ],
      "text/plain": [
       "<IPython.core.display.Javascript object>"
      ]
     },
     "metadata": {},
     "output_type": "display_data"
    },
    {
     "name": "stdout",
     "output_type": "stream",
     "text": [
      "[jovian] Attempting to save notebook..\u001b[0m\n"
     ]
    }
   ],
   "source": [
    "jovian.commit()"
   ]
  },
  {
   "cell_type": "markdown",
   "id": "3822ae33",
   "metadata": {},
   "source": [
    "## Standard Deviations for Common Distributions\n",
    "\n",
    "Determining the standard deviation $\\sigma$ in the formula for the $Z$ statistic can be tricky sometimes.\n",
    "\n",
    "<img src=\"https://i.imgur.com/AUJX4qi.png\" width=\"120\">\n",
    "\n",
    "If we know the underlying distribution of the population from which a sample is drawn, it's possible to compute the mean $\\mu$ and the standard deviation $\\sigma$  of the population.\n",
    "\n",
    "\n",
    "#### Bernoulli Distribution\n",
    "\n",
    "There are two possible outcomes: \"success\" or \"failures\" and the probability of success is $p$.\n",
    "\n",
    "$\\mu = p$ (mean is simply the probability of success) \n",
    "\n",
    "$\\sigma = \\sqrt{p(1-p)}$\n",
    "\n",
    "#### Binomial Distribution\n",
    "\n",
    "The number of successful outcomes when an experiment is repeated $n$ times with a probability of success $p$.\n",
    "\n",
    "$\\mu = np$ (the average no. of successes)\n",
    "\n",
    "$\\sigma = \\sqrt{np(1-p)}$\n",
    "\n",
    "#### Uniform Discrete Distribution\n",
    "\n",
    "There are $n$ equally likely outcomes\n",
    "\n",
    "$\\mu = \\textrm{average of outcomes}$\n",
    "\n",
    "$\\sigma = \\sqrt{\\frac{n^2 - 1}{12}}$\n",
    "\n",
    "#### Uniform Continuous Distribution\n",
    "\n",
    "All values in the range $(a, b)$ are equally likely\n",
    "\n",
    "$\\mu = (a+b)/2$\n",
    "\n",
    "$\\sigma = (b-a) /\\sqrt{12}$\n",
    "\n",
    "#### Exponential Distribution\n",
    "\n",
    "$\\mu = 1 / \\lambda$\n",
    "\n",
    "$\\sigma = 1 / \\lambda = \\mu$\n",
    "\n",
    "where is the parameter of the probability density function $f(x) = \\lambda e^{-\\lambda x}$.\n",
    "\n",
    "#### Normal Distribution\n",
    "\n",
    "A normal distribution is already defined in terms its mean $\\mu$ and standard deviation $\\sigma$\n",
    "\n",
    "<img src=\"https://i.imgur.com/Pr60Ejg.png\" width=\"240\" style=\"margin-left:0\">\n",
    "\n",
    "\n",
    "#### All Other Cases\n",
    "\n",
    "\n",
    "If you don't know the distribution of the population, or are unsure,  the standard deviation of the observed values can be used as an approximation for $\\sigma$ in the formula for Z score."
   ]
  },
  {
   "cell_type": "code",
   "execution_count": null,
   "id": "1c3b3134",
   "metadata": {},
   "outputs": [],
   "source": []
  },
  {
   "cell_type": "code",
   "execution_count": null,
   "id": "7559bbfb",
   "metadata": {},
   "outputs": [],
   "source": []
  },
  {
   "cell_type": "markdown",
   "id": "57487ce2",
   "metadata": {},
   "source": [
    "> **EXERCISE**: A coin is tossed 1000 times and results in 476 heads. Is the coin biased? Use a significance level of 0.01.\n",
    "\n"
   ]
  },
  {
   "cell_type": "code",
   "execution_count": null,
   "id": "8e584ff0",
   "metadata": {},
   "outputs": [],
   "source": []
  },
  {
   "cell_type": "code",
   "execution_count": null,
   "id": "f42539c4",
   "metadata": {},
   "outputs": [],
   "source": []
  },
  {
   "cell_type": "markdown",
   "id": "3b3513c5",
   "metadata": {},
   "source": [
    "> **EXERCISE**: A principal at a certain school claims that the students in his school are above average intelligence. A random sample of thirty students IQ scores have a mean score of 112.5. Is there sufficient evidence to support the principal’s claim? The mean population IQ is 100 with a standard deviation of 15."
   ]
  },
  {
   "cell_type": "code",
   "execution_count": null,
   "id": "d71dc06a",
   "metadata": {},
   "outputs": [],
   "source": []
  },
  {
   "cell_type": "code",
   "execution_count": null,
   "id": "66528cc1",
   "metadata": {},
   "outputs": [],
   "source": []
  },
  {
   "cell_type": "markdown",
   "id": "74a2e919",
   "metadata": {},
   "source": [
    "> **EXERCISE**: Blood glucose levels for obese patients have a mean of 100 with a standard deviation of 15. A researcher thinks that a diet high in raw cornstarch will have a positive or negative effect on blood glucose levels. A sample of 30 patients who have tried the raw cornstarch diet have a mean glucose level of 140. Test the hypothesis that the raw cornstarch had an effect."
   ]
  },
  {
   "cell_type": "code",
   "execution_count": null,
   "id": "92c1fe9d",
   "metadata": {},
   "outputs": [],
   "source": []
  },
  {
   "cell_type": "code",
   "execution_count": null,
   "id": "9eaf6777",
   "metadata": {},
   "outputs": [],
   "source": []
  },
  {
   "cell_type": "markdown",
   "id": "724688eb",
   "metadata": {},
   "source": [
    "> **EXERCISE**: A researcher believes that the mean age in India, listed as 21 on Wikipedia, is incorrect. He picks a random sample of 200 people and finds that they have a mean age of of 21.7. The population standard deviation of 5. Test the researcher's hypothesis at a significance level of 0.05."
   ]
  },
  {
   "cell_type": "code",
   "execution_count": null,
   "id": "5e5965a8",
   "metadata": {},
   "outputs": [],
   "source": []
  },
  {
   "cell_type": "code",
   "execution_count": null,
   "id": "81d601d4",
   "metadata": {},
   "outputs": [],
   "source": []
  },
  {
   "cell_type": "markdown",
   "id": "c773c003",
   "metadata": {},
   "source": [
    "> **EXERCISE**: Jeffrey, as an eight-year old, established a mean time of 16.43 seconds for swimming the 25-yard freestyle, with a standard deviation of 0.8 seconds. His dad, Frank, thought that Jeffrey could swim the 25-yard freestyle faster using goggles. Frank bought Jeffrey a new pair of expensive goggles and timed Jeffrey for 15 25-yard freestyle swims. For the 15 swims, Jeffrey’s mean time was 16 seconds. Frank thought that the goggles helped Jeffrey to swim faster than the 16.43 seconds. Conduct a hypothesis test using a significance level of 0.05."
   ]
  },
  {
   "cell_type": "code",
   "execution_count": null,
   "id": "78a92196",
   "metadata": {},
   "outputs": [],
   "source": []
  },
  {
   "cell_type": "code",
   "execution_count": null,
   "id": "52868afe",
   "metadata": {},
   "outputs": [],
   "source": []
  },
  {
   "cell_type": "code",
   "execution_count": 7,
   "id": "510b52d9",
   "metadata": {},
   "outputs": [
    {
     "data": {
      "application/javascript": [
       "window.require && require([\"base/js/namespace\"],function(Jupyter){Jupyter.notebook.save_checkpoint()})"
      ],
      "text/plain": [
       "<IPython.core.display.Javascript object>"
      ]
     },
     "metadata": {},
     "output_type": "display_data"
    },
    {
     "name": "stdout",
     "output_type": "stream",
     "text": [
      "[jovian] Attempting to save notebook..\u001b[0m\n",
      "[jovian] Updating notebook \"aakashns/hypothesis-testing-and-statistical-significance\" on https://jovian.ai/\u001b[0m\n",
      "[jovian] Uploading notebook..\u001b[0m\n",
      "[jovian] Capturing environment..\u001b[0m\n",
      "[jovian] Committed successfully! https://jovian.ai/aakashns/hypothesis-testing-and-statistical-significance\u001b[0m\n"
     ]
    },
    {
     "data": {
      "text/plain": [
       "'https://jovian.ai/aakashns/hypothesis-testing-and-statistical-significance'"
      ]
     },
     "execution_count": 7,
     "metadata": {},
     "output_type": "execute_result"
    }
   ],
   "source": [
    "jovian.commit()"
   ]
  },
  {
   "cell_type": "markdown",
   "id": "843e593e-82f8-4b59-aa53-4d70d3cdf30e",
   "metadata": {},
   "source": [
    "## Questions for Revision\n",
    "1.\tDefine hypothesis.\n",
    "2.\tHow does testing of hypothesis help an analyst in making a decision?\n",
    "3.\tHow does one construct a Null hypothesis?\n",
    "4.\tDefine the following terms: (i.) Small sample (ii.) Large sample\n",
    "5.\tWhat are the types of errors in testing of hypothesis? Explain each with an example.\n",
    "6.\tWhat is the relationship between α and β?\n",
    "7.\tWhat is a critical region?\n",
    "8.\tWhat is degree of freedom in testing of hypothesis?\n",
    "9.\tHow are µ (mu) and x̄ (x-bar) related in hypothesis testing?\n",
    "10.\tWhat is the probability of getting any specific set of observations from a continuous distribution?\n",
    "11.\tWhat is the assumption we make for computing the p-value?\n",
    "12.\tIf a sample has larger negative z statistic i.e. lower mean than the observed data, which tail is the test?\n",
    "13.\tHow do you calculate p-value when the z-statistic is positive?\n",
    "14.\tIn two-tailed condition, how do we calculate the p-value?\n",
    "15.\tWhat test can we conduct to check the equality of variances?\n",
    "16.\tWhat is standard error?\n",
    "17.\tIn Z-test, when do we accept alternate hypothesis?\n",
    "18.\tWhen do we say that a result is statistically significant?\n",
    "19.\tWhat is p-hacking in testing of hypothesis?\n",
    "20.\tWhat are the four important steps in testing of hypothesis?\n",
    "21.\tWhy is it important to check for normality of data before conducting a test?\n",
    "22.\tWhat problems does biased sample cause during hypothesis testing?"
   ]
  },
  {
   "cell_type": "markdown",
   "id": "d0a16053",
   "metadata": {},
   "source": [
    "## Solutions for Exercises"
   ]
  },
  {
   "cell_type": "code",
   "execution_count": 3,
   "id": "5d012e60",
   "metadata": {},
   "outputs": [],
   "source": [
    "import math\n",
    "from scipy.stats import norm"
   ]
  },
  {
   "cell_type": "markdown",
   "id": "6324c09e",
   "metadata": {},
   "source": [
    "> **EXERCISE**: A coin is tossed 1000 times and results in 476 heads. Is the coin biased? Use a significance level of 0.01.\n",
    "\n",
    "**Solution:**\n",
    "- $\\mu = \\text{Probability of getting a heads when a dice is tossed}$\n",
    "- Let's begin with writing down our null and alternate hypothesis:\n",
    "    - $H_0: \\text{The coin is unbiased i.e }(\\mu = 0.5)$\n",
    "    - $H_1: \\text{The coin is biased i.e } (\\mu \\neq 0.5)$ \n",
    "\n",
    "Assuming the null hypothesis $H_0$ is true."
   ]
  },
  {
   "cell_type": "code",
   "execution_count": 4,
   "id": "f5d1d4d2",
   "metadata": {},
   "outputs": [],
   "source": [
    "n = 1000  # Sample Size\n",
    "sample_mean = 476/1000\n",
    "pop_mean = 0.5\n",
    "std_dev = math.sqrt(0.5*0.5)"
   ]
  },
  {
   "cell_type": "markdown",
   "id": "ab498252",
   "metadata": {},
   "source": [
    "Throwing a coin is the perfect example of a bernoulli distribution. Which is why we can directly use the formula for standard deviation. \n",
    "\n",
    "$\\sigma = \\sqrt{p(1-p)}$\n",
    "\n",
    "Now, let's calculate the z-statistic:"
   ]
  },
  {
   "cell_type": "code",
   "execution_count": 5,
   "id": "6192b994",
   "metadata": {},
   "outputs": [
    {
     "data": {
      "text/plain": [
       "-1.5178932768808235"
      ]
     },
     "execution_count": 5,
     "metadata": {},
     "output_type": "execute_result"
    }
   ],
   "source": [
    "z_statistic = (sample_mean - pop_mean) / (std_dev/math.sqrt(n)) \n",
    "z_statistic"
   ]
  },
  {
   "cell_type": "markdown",
   "id": "720e3175",
   "metadata": {},
   "source": [
    "To check what tailed test this is, let's look at the graph. \n",
    "\n",
    "Our Alternate Hypothesis $H_1$ is $\\mu \\neq 0.5$ so we are looking at a two tailed test.\n",
    "\n",
    "![Imgur](https://i.imgur.com/MKl5Q9G.jpg)\n",
    "\n",
    "The coin will be biased in both cases. i.e if we get 476 heads and other tails, or if we get 476 tails and other heads. Both times the coin will biased.  \n",
    "\n",
    "Hence: **Two tailed test**"
   ]
  },
  {
   "cell_type": "code",
   "execution_count": 8,
   "id": "51709eff",
   "metadata": {},
   "outputs": [],
   "source": [
    "z = abs(z_statistic)"
   ]
  },
  {
   "cell_type": "code",
   "execution_count": 9,
   "id": "e4c36cc2",
   "metadata": {},
   "outputs": [
    {
     "data": {
      "text/plain": [
       "0.12904130509946768"
      ]
     },
     "execution_count": 9,
     "metadata": {},
     "output_type": "execute_result"
    }
   ],
   "source": [
    "#Left Plus Right Side\n",
    "p_value = norm.cdf(-z) + (1-norm.cdf(z))\n",
    "p_value"
   ]
  },
  {
   "cell_type": "markdown",
   "id": "59f7e9a9",
   "metadata": {},
   "source": [
    "So, if the null hypothesis is true, there is a 12.9% chance that we get these many number of heads. \n",
    "\n",
    "Given the significance level = 0.01, we can say that the coin is biased only if the coin has less than 1% chance of getting 476 heads. But since the p-value is much more than 1%, we cannot reject the null hypothesis.\n",
    "\n",
    "Hence, we cannot say the coin is biased."
   ]
  },
  {
   "cell_type": "markdown",
   "id": "95d549c9",
   "metadata": {},
   "source": [
    "> **EXERCISE**: A principal at a certain school claims that the students in his school are above average intelligence. A random sample of thirty students IQ scores have a mean score of 112.5. Is there sufficient evidence to support the principal’s claim? The mean population IQ is 100 with a standard deviation of 15.\n",
    "\n",
    "**Solution:**\n",
    "- $\\mu = \\text{The avg IQ of the students from the school}$\n",
    "- Let's begin with writing down our hypothesis:\n",
    "    - $H_0: \\text{The average IQ is =< the average IQ i.e }(\\mu <= 100)$\n",
    "    - $H_1: \\text{The students have above average IQ. i.e } (\\mu > 100)$"
   ]
  },
  {
   "cell_type": "code",
   "execution_count": 2,
   "id": "5204ca85",
   "metadata": {},
   "outputs": [],
   "source": [
    "n = 30  # Sample Size \n",
    "sample_mean = 112.5\n",
    "pop_mean = 100\n",
    "std_dev = 15"
   ]
  },
  {
   "cell_type": "code",
   "execution_count": 3,
   "id": "516a5e40",
   "metadata": {},
   "outputs": [
    {
     "data": {
      "text/plain": [
       "4.564354645876384"
      ]
     },
     "execution_count": 3,
     "metadata": {},
     "output_type": "execute_result"
    }
   ],
   "source": [
    "z_statistic = (sample_mean - pop_mean) / (std_dev/math.sqrt(n)) \n",
    "z_statistic"
   ]
  },
  {
   "cell_type": "markdown",
   "id": "6631c2b4",
   "metadata": {},
   "source": [
    "Now, lets identify whether this is a left-tailed or a right tailed test. \n",
    "\n",
    "The z-score = 4.56, Our alternate hypothesis is that the average intelligence or the average IQ is greater than 100, so since the alternate hypothesis is looking for something greater, this is a right tailed test. You can have a look at this graph. \n",
    "\n",
    "![Imgur](https://i.imgur.com/tMGu7sj.jpg)\n",
    "\n",
    "We can also say this because our z-statistic is positive, and we are interested in getting the probability of getting an equally extreme observation or an even more extreme observation. i.e a z-score > 4.5, the area under the graph after $z=4.5$  \n",
    "\n",
    "Hence: **a right-tailed test**\n",
    "\n",
    "Now, let's calculate the p-value:"
   ]
  },
  {
   "cell_type": "code",
   "execution_count": 5,
   "id": "43f5dc68",
   "metadata": {},
   "outputs": [
    {
     "data": {
      "text/plain": [
       "2.50516597821715e-06"
      ]
     },
     "execution_count": 5,
     "metadata": {},
     "output_type": "execute_result"
    }
   ],
   "source": [
    "p_value = 1 - norm.cdf(z_statistic)\n",
    "p_value"
   ]
  },
  {
   "cell_type": "code",
   "execution_count": 6,
   "id": "acb33375",
   "metadata": {},
   "outputs": [
    {
     "name": "stdout",
     "output_type": "stream",
     "text": [
      "0.0000025\n"
     ]
    }
   ],
   "source": [
    "print('{:.7f}'.format(p_value)) "
   ]
  },
  {
   "cell_type": "markdown",
   "id": "1eae3943",
   "metadata": {},
   "source": [
    "So, with the p_value being very less, there's a very less chance that the null hypothesis is true. \n",
    "\n",
    "The p-value gives us the probability of obtaining a sample equal to or more extreme than the observed data, assuming that the null-hypothesis is true. Hence, the observations of the 30 sample students is statistically significant. "
   ]
  },
  {
   "cell_type": "markdown",
   "id": "fea3da1d",
   "metadata": {},
   "source": [
    "> **EXERCISE**: Blood glucose levels for obese patients have a mean of 100 with a standard deviation of 15. A researcher thinks that a diet high in raw cornstarch will have a positive or negative effect on blood glucose levels. A sample of 30 patients who have tried the raw cornstarch diet have a mean glucose level of 140. Test the hypothesis that the raw cornstarch had an effect.\n",
    "\n",
    "**Solution:**\n",
    "\n",
    "Let's begin by writing the null and alternate hypothesis:\n",
    "- $\\mu = \\text{The avg glucose level of obese patients}$\n",
    "    - $H_0 = \\text{The raw cornstarch does not have an effect i.e } \\mu = 100$\n",
    "    - $H_1 = \\text{The raw cornstarch had an effect (Positive or Negative)i.e } (\\mu > 100) or (\\mu < 100) $"
   ]
  },
  {
   "cell_type": "code",
   "execution_count": 17,
   "id": "b52d5fbc",
   "metadata": {},
   "outputs": [],
   "source": [
    "n = 30\n",
    "sample_mean = 140\n",
    "pop_mean = 100\n",
    "std_dev = 15"
   ]
  },
  {
   "cell_type": "code",
   "execution_count": 18,
   "id": "005c4318",
   "metadata": {},
   "outputs": [
    {
     "data": {
      "text/plain": [
       "14.60593486680443"
      ]
     },
     "execution_count": 18,
     "metadata": {},
     "output_type": "execute_result"
    }
   ],
   "source": [
    "z_statistic = (sample_mean - pop_mean) / (std_dev/math.sqrt(n)) \n",
    "z_statistic"
   ]
  },
  {
   "cell_type": "markdown",
   "id": "98bcdacf",
   "metadata": {},
   "source": [
    "To check what tailed test this is, let's look at the graph. \n",
    "\n",
    "Our Alternate Hypothesis $H_1$ is that $\\mu \\neq 100$ so we are looking at a two tailed test.\n",
    "\n",
    "![Imgur](https://i.imgur.com/MKl5Q9G.jpg)\n",
    "\n",
    "Now, the diet either has a positive effect i.e  $\\mu > 100$ or a negative effect i.e $\\mu < 100$, either case the value shall not be equal to 100. \n",
    "\n",
    "hence: **Two tailed Test**"
   ]
  },
  {
   "cell_type": "code",
   "execution_count": 19,
   "id": "410695cb",
   "metadata": {},
   "outputs": [
    {
     "data": {
      "text/plain": [
       "1.2871333318488276e-48"
      ]
     },
     "execution_count": 19,
     "metadata": {},
     "output_type": "execute_result"
    }
   ],
   "source": [
    "z = abs(z_statistic)\n",
    "p_value = norm.cdf(-z) + (1-norm.cdf(z))\n",
    "p_value"
   ]
  },
  {
   "cell_type": "code",
   "execution_count": 22,
   "id": "c30ded83",
   "metadata": {},
   "outputs": [
    {
     "name": "stdout",
     "output_type": "stream",
     "text": [
      "0.0000000000000000000000000000000000000000000000013\n"
     ]
    }
   ],
   "source": [
    "print('{:.49f}'.format(p_value))"
   ]
  },
  {
   "cell_type": "markdown",
   "id": "886ee9c4",
   "metadata": {},
   "source": [
    "Considering the significance level to be 0.01, we can see that the p_value is very very less, which is why we can reject the null hypothesis and confidently say that our observations are statistically significant. "
   ]
  },
  {
   "cell_type": "markdown",
   "id": "eecc8058",
   "metadata": {},
   "source": [
    "> **EXERCISE**: A researcher believes that the mean age in India, listed as 21 on Wikipedia, is incorrect. He picks a random sample of 200 people and finds that they have a mean age of of 21.7. The population standard deviation of 5. Test the researcher's hypothesis at a significance level of 0.05.\n",
    "\n",
    "\n",
    "**Solution:**\n",
    "\n",
    "Let's begin by writing the null and alternate hypothesis:\n",
    "- $\\mu = \\text{The avg age in India}$\n",
    "    - $H_0 = \\text{The avg age in India is 21 i.e } \\mu = 21$\n",
    "    - $H_1 = \\text{The avg age in India is not 21 i.e } \\mu \\neq 21 $"
   ]
  },
  {
   "cell_type": "code",
   "execution_count": 14,
   "id": "ee6870da",
   "metadata": {},
   "outputs": [],
   "source": [
    "n = 200\n",
    "sample_mean =21.7\n",
    "pop_mean = 21\n",
    "std_dev = 5"
   ]
  },
  {
   "cell_type": "markdown",
   "id": "34c5121b",
   "metadata": {},
   "source": [
    "Let's calculate the z-statistic now. "
   ]
  },
  {
   "cell_type": "code",
   "execution_count": 15,
   "id": "ca84b6dd",
   "metadata": {},
   "outputs": [
    {
     "data": {
      "text/plain": [
       "1.9798989873223312"
      ]
     },
     "execution_count": 15,
     "metadata": {},
     "output_type": "execute_result"
    }
   ],
   "source": [
    "z_statistic = (sample_mean - pop_mean) / (std_dev/math.sqrt(n)) \n",
    "z_statistic"
   ]
  },
  {
   "cell_type": "markdown",
   "id": "1ab28d6b",
   "metadata": {},
   "source": [
    "To check what tailed test this is, let's look at the graph. \n",
    "\n",
    "Our Alternate Hypothesis $H_1$ is $\\mu \\neq 21$ so we are looking at a two tailed test.\n",
    "\n",
    "![Imgur](https://i.imgur.com/MKl5Q9G.jpg)\n",
    "\n",
    "Now, for both cases when the avg age group is less than 21 or greater than 21, it is not equal to 21. \n",
    "\n",
    "hence: **Two tailed Test**"
   ]
  },
  {
   "cell_type": "code",
   "execution_count": 16,
   "id": "64dba56d",
   "metadata": {},
   "outputs": [
    {
     "data": {
      "text/plain": [
       "0.04771488023735143"
      ]
     },
     "execution_count": 16,
     "metadata": {},
     "output_type": "execute_result"
    }
   ],
   "source": [
    "z = abs(z_statistic)\n",
    "p_value = norm.cdf(-z) + (1-norm.cdf(z))\n",
    "p_value"
   ]
  },
  {
   "cell_type": "markdown",
   "id": "f93078f4",
   "metadata": {},
   "source": [
    "Since the given significance level = 0.05 which is higher than the determined p-value, we can reject the null hypothesis and say that the avg in India is not equal to 21. \n",
    "Which means that the observations made by the researcher are statistically significant. "
   ]
  },
  {
   "cell_type": "code",
   "execution_count": null,
   "id": "c8d49b8d",
   "metadata": {},
   "outputs": [],
   "source": [
    "jovian.commit(project=\"hypothesis-testing-solutions\")"
   ]
  },
  {
   "cell_type": "markdown",
   "id": "a6123ecb",
   "metadata": {},
   "source": [
    "> **EXERCISE**: Jeffrey, as an eight-year old, established a mean time of 16.43 seconds for swimming the 25-yard freestyle, with a standard deviation of 0.8 seconds. His dad, Frank, thought that Jeffrey could swim the 25-yard freestyle faster using goggles. Frank bought Jeffrey a new pair of expensive goggles and timed Jeffrey for 15 25-yard freestyle swims. For the 15 swims, Jeffrey’s mean time was 16 seconds. Frank thought that the goggles helped Jeffrey to swim faster than the 16.43 seconds. Conduct a hypothesis test using a significance level of 0.05.\n",
    "\n",
    "**Solution:**\n",
    "\n",
    "Let's begin by writing the null and alternate hypothesis:\n",
    "- $\\mu = \\text{The time taken by Jeffrey to complete 25-yard freestyle}$\n",
    "    - $H_0 = \\text{The avg time taken is more than 16 i.e } \\mu >= 16.43$\n",
    "    - $H_1 = \\text{The avg time taken is equal to or less than 16 i.e } \\mu < 16.43 $"
   ]
  },
  {
   "cell_type": "code",
   "execution_count": 23,
   "id": "f89f7a6e",
   "metadata": {},
   "outputs": [],
   "source": [
    "n = 15\n",
    "sample_mean = 16\n",
    "pop_mean = 16.43\n",
    "std_dev = 0.8"
   ]
  },
  {
   "cell_type": "code",
   "execution_count": 24,
   "id": "a4b7d29a",
   "metadata": {},
   "outputs": [
    {
     "data": {
      "text/plain": [
       "-2.081728548586485"
      ]
     },
     "execution_count": 24,
     "metadata": {},
     "output_type": "execute_result"
    }
   ],
   "source": [
    "z_statistic = (sample_mean - pop_mean) / (std_dev/math.sqrt(n)) \n",
    "z_statistic"
   ]
  },
  {
   "cell_type": "markdown",
   "id": "054e63bb",
   "metadata": {},
   "source": [
    "To check what tailed test this is, let's look at the graph. \n",
    "\n",
    "![Imgur](https://i.imgur.com/Hdr40ke.jpg)\n",
    "\n",
    "Now, the z-score = -2.08, our alternate hypothesis is that the time taken is either equal or lesser than 16. Hence we are looking for a value equivalent to 16 or more extreme than this. \n",
    "\n",
    "Hence: **a Left Tailed Test**\n",
    "\n"
   ]
  },
  {
   "cell_type": "code",
   "execution_count": 25,
   "id": "7355b771",
   "metadata": {},
   "outputs": [
    {
     "data": {
      "text/plain": [
       "0.018683635713606015"
      ]
     },
     "execution_count": 25,
     "metadata": {},
     "output_type": "execute_result"
    }
   ],
   "source": [
    "p_value = norm.cdf(z_statistic)\n",
    "p_value"
   ]
  },
  {
   "cell_type": "markdown",
   "id": "9445b9bd",
   "metadata": {},
   "source": [
    "The p_value is less that the specified significance level i.e 0.05. Hence we reject the null hypothesis and confidently say that the swimming goggles helped Jeffrey with reducing his swimming time.   "
   ]
  }
 ],
 "metadata": {
  "language_info": {
   "codemirror_mode": {
    "name": "ipython",
    "version": 3
   },
   "file_extension": ".py",
   "mimetype": "text/x-python",
   "name": "python",
   "nbconvert_exporter": "python",
   "pygments_lexer": "ipython3",
   "version": "3.9.6"
  }
 },
 "nbformat": 4,
 "nbformat_minor": 5
}